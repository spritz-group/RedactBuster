{
 "cells": [
  {
   "cell_type": "code",
   "execution_count": null,
   "metadata": {},
   "outputs": [],
   "source": [
    "import numpy as np\n",
    "import os\n",
    "import random\n",
    "import sklearn\n",
    "from sklearn.model_selection import train_test_split\n",
    "from sklearn import ensemble\n",
    "import torch\n",
    "import json"
   ]
  },
  {
   "cell_type": "code",
   "execution_count": null,
   "metadata": {},
   "outputs": [],
   "source": [
    "seed = 151836\n",
    "\n",
    "def setSeed(seed=seed):\n",
    "    \"\"\"\n",
    "    Setting the seed for reproducibility\n",
    "    \"\"\"\n",
    "    random.seed(seed)\n",
    "    os.environ['PYTHONHASHSEED'] = str(seed)\n",
    "    np.random.seed(seed)\n",
    "    torch.manual_seed(seed)\n",
    "    torch.cuda.manual_seed(seed)\n",
    "    torch.cuda.manual_seed_all(seed)\n",
    "    torch.backends.cudnn.deterministic = True\n",
    "    torch.backends.cudnn.benchmark = True\n",
    "\n",
    "setSeed()"
   ]
  },
  {
   "cell_type": "code",
   "execution_count": null,
   "metadata": {},
   "outputs": [],
   "source": [
    "path = 'dataset/finetuned.json'\n",
    "\n",
    "\n",
    "with open(path,'r',encoding='utf-8') as f:\n",
    "    dataset = json.load(f)\n",
    "\n",
    "X = np.array([element.get('embedding',None) for element in dataset])\n",
    "y = np.array([element.get('label',None) for element in dataset])\n",
    "\n",
    "setSeed()\n",
    "\n",
    "X_train,X_test,y_train,y_test = train_test_split(X, y, test_size=0.2, random_state=42)\n",
    "X_train,X_val,y_train,y_val = train_test_split(X_train,y_train,test_size= 0.125, random_state=42)\n",
    "print(len(X_train),len(X_test),len(X_val))"
   ]
  },
  {
   "cell_type": "code",
   "execution_count": null,
   "metadata": {},
   "outputs": [],
   "source": [
    "setSeed()\n",
    "forest = ensemble.RandomForestClassifier(n_estimators=150,criterion='gini',n_jobs=-1,random_state=42)\n",
    "forest.fit(X_train,y_train)\n",
    "train_score = forest.score(X_train,y_train)\n",
    "val_score = forest.score(X_val,y_val)\n",
    "test_score = forest.score(X_test,y_test)\n",
    "print('train accuracy: ',train_score)\n",
    "print('val_accuracy: ',val_score)\n",
    "print('test_accuracy: ',test_score)"
   ]
  },
  {
   "cell_type": "code",
   "execution_count": null,
   "metadata": {},
   "outputs": [],
   "source": [
    "setSeed()\n",
    "xgboost = ensemble.HistGradientBoostingClassifier(learning_rate=0.3,l2_regularization=0,max_depth=None,random_state=42)\n",
    "xgboost.fit(X_train,y_train)\n",
    "train_score = xgboost.score(X_train,y_train)\n",
    "val_score = xgboost.score(X_val,y_val)\n",
    "test_score = xgboost.score(X_test,y_test)\n",
    "print('train accuracy: ',train_score)\n",
    "print('val_accuracy: ',val_score)\n",
    "print('test_accuracy: ',test_score)"
   ]
  },
  {
   "cell_type": "code",
   "execution_count": null,
   "metadata": {},
   "outputs": [],
   "source": [
    "setSeed()\n",
    "base_model = sklearn.svm.SVC(kernel='rbf',C=7.0)\n",
    "svm_rbf = ensemble.BaggingClassifier(estimator=base_model,n_estimators=15,max_samples=0.5)\n",
    "svm_rbf.fit(X_train,y_train)\n",
    "train_score = svm_rbf.score(X_train,y_train)\n",
    "val_score = svm_rbf.score(X_val,y_val)\n",
    "test_score = svm_rbf.score(X_test,y_test)\n",
    "print('train accuracy: ',train_score)\n",
    "print('val_accuracy: ',val_score)\n",
    "print('test_accuracy: ',test_score)"
   ]
  },
  {
   "cell_type": "code",
   "execution_count": null,
   "metadata": {},
   "outputs": [],
   "source": [
    "setSeed()\n",
    "base_model = sklearn.svm.SVC(kernel='poly',C=7,degree=3)\n",
    "svm_poly = ensemble.BaggingClassifier(estimator=base_model,n_estimators=15,max_samples=0.5)\n",
    "svm_poly.fit(X_train,y_train)\n",
    "train_score = svm_poly.score(X_train,y_train)\n",
    "val_score = svm_poly.score(X_val,y_val)\n",
    "test_score = svm_poly.score(X_test,y_test)\n",
    "print('train accuracy: ',train_score)\n",
    "print('val_accuracy: ',val_score)\n",
    "print('test_accuracy: ',test_score)"
   ]
  },
  {
   "cell_type": "code",
   "execution_count": null,
   "metadata": {},
   "outputs": [],
   "source": [
    "path = 'dataset/poisoned.json'\n",
    "\n",
    "\n",
    "with open(path,'r',encoding='utf-8') as f:\n",
    "    dataset = json.load(f)\n",
    "\n",
    "X = np.array([element.get('embedding',None) for element in dataset])\n",
    "y = np.array([element.get('label',None) for element in dataset])\n",
    "\n",
    "setSeed()\n",
    "\n",
    "X_train,X_test,y_train,y_test = train_test_split(X, y, test_size=0.2, random_state=42)\n",
    "X_train,X_val,y_train,y_val = train_test_split(X_train,y_train,test_size= 0.125, random_state=42)\n",
    "print(len(X_train),len(X_test),len(X_val))"
   ]
  },
  {
   "cell_type": "code",
   "execution_count": null,
   "metadata": {},
   "outputs": [],
   "source": [
    "test_accuracy = forest.score(X_test,y_test)\n",
    "print(f'RF test accuracy: {test_accuracy}')"
   ]
  },
  {
   "cell_type": "code",
   "execution_count": null,
   "metadata": {},
   "outputs": [],
   "source": [
    "test_accuracy = xgboost.score(X_test,y_test)\n",
    "print(f'xgboost test accuracy: {test_accuracy}')"
   ]
  },
  {
   "cell_type": "code",
   "execution_count": null,
   "metadata": {},
   "outputs": [],
   "source": [
    "test_accuracy = svm_rbf.score(X_test,y_test)\n",
    "print(f'SVM rbf test accuracy: {test_accuracy}')\n",
    "\n",
    "test_accuracy = svm_poly.score(X_test,y_test)\n",
    "print(f'SVM poly test accuracy: {test_accuracy}')"
   ]
  }
 ],
 "metadata": {
  "kernelspec": {
   "display_name": "Python 3",
   "language": "python",
   "name": "python3"
  },
  "language_info": {
   "codemirror_mode": {
    "name": "ipython",
    "version": 3
   },
   "file_extension": ".py",
   "mimetype": "text/x-python",
   "name": "python",
   "nbconvert_exporter": "python",
   "pygments_lexer": "ipython3",
   "version": "3.8.10"
  }
 },
 "nbformat": 4,
 "nbformat_minor": 2
}
